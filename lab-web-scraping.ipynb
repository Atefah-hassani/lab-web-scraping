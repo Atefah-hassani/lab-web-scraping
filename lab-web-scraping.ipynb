{
  "cells": [
    {
      "cell_type": "markdown",
      "id": "7e7a1ab8-2599-417d-9a65-25ef07f3a786",
      "metadata": {
        "id": "7e7a1ab8-2599-417d-9a65-25ef07f3a786"
      },
      "source": [
        "# Lab | Web Scraping"
      ]
    },
    {
      "cell_type": "markdown",
      "id": "ce8882fc-4815-4567-92fa-b4816358ba7d",
      "metadata": {
        "id": "ce8882fc-4815-4567-92fa-b4816358ba7d"
      },
      "source": [
        "Welcome to the \"Books to Scrape\" Web Scraping Adventure Lab!\n",
        "\n",
        "**Objective**\n",
        "\n",
        "In this lab, we will embark on a mission to unearth valuable insights from the data available on Books to Scrape, an online platform showcasing a wide variety of books. As data analyst, you have been tasked with scraping a specific subset of book data from Books to Scrape to assist publishing companies in understanding the landscape of highly-rated books across different genres. Your insights will help shape future book marketing strategies and publishing decisions.\n",
        "\n",
        "**Background**\n",
        "\n",
        "In a world where data has become the new currency, businesses are leveraging big data to make informed decisions that drive success and profitability. The publishing industry, much like others, utilizes data analytics to understand market trends, reader preferences, and the performance of books based on factors such as genre, author, and ratings. Books to Scrape serves as a rich source of such data, offering detailed information about a diverse range of books, making it an ideal platform for extracting insights to aid in informed decision-making within the literary world.\n",
        "\n",
        "**Task**\n",
        "\n",
        "Your task is to create a Python script using BeautifulSoup and pandas to scrape Books to Scrape book data, focusing on book ratings and genres. The script should be able to filter books with ratings above a certain threshold and in specific genres. Additionally, the script should structure the scraped data in a tabular format using pandas for further analysis.\n",
        "\n",
        "**Expected Outcome**\n",
        "\n",
        "A function named `scrape_books` that takes two parameters: `min_rating` and `max_price`. The function should scrape book data from the \"Books to Scrape\" website and return a `pandas` DataFrame with the following columns:\n",
        "\n",
        "**Expected Outcome**\n",
        "\n",
        "- A function named `scrape_books` that takes two parameters: `min_rating` and `max_price`.\n",
        "- The function should return a DataFrame with the following columns:\n",
        "  - **UPC**: The Universal Product Code (UPC) of the book.\n",
        "  - **Title**: The title of the book.\n",
        "  - **Price (£)**: The price of the book in pounds.\n",
        "  - **Rating**: The rating of the book (1-5 stars).\n",
        "  - **Genre**: The genre of the book.\n",
        "  - **Availability**: Whether the book is in stock or not.\n",
        "  - **Description**: A brief description or product description of the book (if available).\n",
        "  \n",
        "You will execute this script to scrape data for books with a minimum rating of `4.0 and above` and a maximum price of `£20`. \n",
        "\n",
        "Remember to experiment with different ratings and prices to ensure your code is versatile and can handle various searches effectively!\n",
        "\n",
        "**Resources**\n",
        "\n",
        "- [Beautiful Soup Documentation](https://www.crummy.com/software/BeautifulSoup/bs4/doc/)\n",
        "- [Pandas Documentation](https://pandas.pydata.org/pandas-docs/stable/index.html)\n",
        "- [Books to Scrape](https://books.toscrape.com/)\n"
      ]
    },
    {
      "cell_type": "markdown",
      "id": "3519921d-5890-445b-9a33-934ed8ee378c",
      "metadata": {
        "id": "3519921d-5890-445b-9a33-934ed8ee378c"
      },
      "source": [
        "**Hint**\n",
        "\n",
        "Your first mission is to familiarize yourself with the **Books to Scrape** website. Navigate to [Books to Scrape](http://books.toscrape.com/) and explore the available books to understand their layout and structure. \n",
        "\n",
        "Next, think about how you can set parameters for your data extraction:\n",
        "\n",
        "- **Minimum Rating**: Focus on books with a rating of 4.0 and above.\n",
        "- **Maximum Price**: Filter for books priced up to £20.\n",
        "\n",
        "After reviewing the site, you can construct a plan for scraping relevant data. Pay attention to the details displayed for each book, including the title, price, rating, and availability. This will help you identify the correct HTML elements to target with your scraping script.\n",
        "\n",
        "Make sure to build your scraping URL and logic based on the patterns you observe in the HTML structure of the book listings!"
      ]
    },
    {
      "cell_type": "markdown",
      "id": "25a83a0d-a742-49f6-985e-e27887cbf922",
      "metadata": {
        "id": "25a83a0d-a742-49f6-985e-e27887cbf922"
      },
      "source": [
        "\n",
        "---\n",
        "\n",
        "**Best of luck! Immerse yourself in the world of books, and may the data be with you!**"
      ]
    },
    {
      "cell_type": "markdown",
      "id": "7b75cf0d-9afa-4eec-a9e2-befeac68b2a0",
      "metadata": {
        "id": "7b75cf0d-9afa-4eec-a9e2-befeac68b2a0"
      },
      "source": [
        "**Important Note**:\n",
        "\n",
        "In the fast-changing online world, websites often update and change their structures. When you try this lab, the **Books to Scrape** website might differ from what you expect.\n",
        "\n",
        "If you encounter issues due to these changes, like new rules or obstacles preventing data extraction, don’t worry! Get creative.\n",
        "\n",
        "You can choose another website that interests you and is suitable for scraping data. Options like Wikipedia, The New York Times, or even library databases are great alternatives. The main goal remains the same: extract useful data and enhance your web scraping skills while exploring a source of information you enjoy. This is your opportunity to practice and adapt to different web environments!"
      ]
    },
    {
      "cell_type": "code",
      "execution_count": 12,
      "id": "40359eee-9cd7-4884-bfa4-83344c222305",
      "metadata": {
        "id": "40359eee-9cd7-4884-bfa4-83344c222305"
      },
      "outputs": [
        {
          "name": "stdout",
          "output_type": "stream",
          "text": [
            "Requirement already satisfied: requests in c:\\users\\atefah\\anaconda3\\lib\\site-packages (2.32.3)\n",
            "Requirement already satisfied: beautifulsoup4 in c:\\users\\atefah\\anaconda3\\lib\\site-packages (4.12.3)\n",
            "Requirement already satisfied: charset-normalizer<4,>=2 in c:\\users\\atefah\\anaconda3\\lib\\site-packages (from requests) (3.3.2)\n",
            "Requirement already satisfied: idna<4,>=2.5 in c:\\users\\atefah\\anaconda3\\lib\\site-packages (from requests) (3.7)\n",
            "Requirement already satisfied: urllib3<3,>=1.21.1 in c:\\users\\atefah\\anaconda3\\lib\\site-packages (from requests) (2.2.3)\n",
            "Requirement already satisfied: certifi>=2017.4.17 in c:\\users\\atefah\\anaconda3\\lib\\site-packages (from requests) (2024.12.14)\n",
            "Requirement already satisfied: soupsieve>1.2 in c:\\users\\atefah\\anaconda3\\lib\\site-packages (from beautifulsoup4) (2.5)\n"
          ]
        }
      ],
      "source": [
        "# Your solution goes here\n",
        "!pip install requests beautifulsoup4"
      ]
    },
    {
      "cell_type": "code",
      "execution_count": 13,
      "id": "ebd8c80c",
      "metadata": {},
      "outputs": [],
      "source": [
        "import requests\n",
        "from bs4 import BeautifulSoup\n",
        "import pandas as pd\n",
        "import re\n",
        "import json\n",
        "import time"
      ]
    },
    {
      "cell_type": "code",
      "execution_count": 14,
      "id": "f1165265",
      "metadata": {},
      "outputs": [],
      "source": [
        "\n",
        "\n",
        "# Mapping textual ratings to numeric values\n",
        "RATING_MAP = {\n",
        "    \"One\": 1,\n",
        "    \"Two\": 2,\n",
        "    \"Three\": 3,\n",
        "    \"Four\": 4,\n",
        "    \"Five\": 5\n",
        "}\n",
        "\n",
        "BASE_URL = \"http://books.toscrape.com/\"\n",
        "\n",
        "def get_genre_and_description(book_url):\n",
        "    \"\"\"Fetch genre and description from the book detail page.\"\"\"\n",
        "    response = requests.get(book_url)\n",
        "    soup = BeautifulSoup(response.content, 'html.parser')\n",
        "\n",
        "    # Genre is in the breadcrumb, third item\n",
        "    genre = soup.select('ul.breadcrumb li a')[-1].text.strip()\n",
        "\n",
        "    # Description is under the 'product_page' section\n",
        "    description_tag = soup.find('meta', attrs={'name': 'description'})\n",
        "    description = description_tag['content'].strip() if description_tag else 'No description available.'\n",
        "\n",
        "    # UPC is found in the product table\n",
        "    upc = soup.find('th', string='UPC').find_next_sibling('td').text.strip()\n",
        "\n",
        "    return genre, description, upc\n",
        "\n",
        "def scrape_books(min_rating=4, max_price=20):\n",
        "    \"\"\"Scrape books with rating >= min_rating and price <= max_price.\"\"\"\n",
        "    books_data = []\n",
        "    page_num = 1\n",
        "\n",
        "    while True:\n",
        "        url = f\"{BASE_URL}catalogue/page-{page_num}.html\" if page_num > 1 else f\"{BASE_URL}catalogue/page-1.html\"\n",
        "        response = requests.get(url)\n",
        "\n",
        "        if response.status_code != 200:\n",
        "            break  # Stop if the page doesn't exist\n",
        "\n",
        "        soup = BeautifulSoup(response.content, 'html.parser')\n",
        "        books = soup.find_all('article', class_='product_pod')\n",
        "\n",
        "        for book in books:\n",
        "            title = book.h3.a['title']\n",
        "            price_text = book.find('p', class_='price_color').text\n",
        "            price = float(price_text.replace('£', '').strip())\n",
        "            availability = book.find('p', class_='instock availability').text.strip()\n",
        "\n",
        "            # Get rating as number\n",
        "            rating_class = book.find('p', class_='star-rating')['class'][1]\n",
        "            rating = RATING_MAP.get(rating_class, 0)\n",
        "\n",
        "            # Filter by rating and price\n",
        "            if rating >= min_rating and price <= max_price:\n",
        "                book_url = BASE_URL + 'catalogue/' + book.h3.a['href'].replace('../../../', '')\n",
        "                genre, description, upc = get_genre_and_description(book_url)\n",
        "\n",
        "                books_data.append({\n",
        "                    'UPC': upc,\n",
        "                    'Title': title,\n",
        "                    'Price (£)': price,\n",
        "                    'Rating': rating,\n",
        "                    'Genre': genre,\n",
        "                    'Availability': availability,\n",
        "                    'Description': description\n",
        "                })\n",
        "\n",
        "        page_num += 1\n",
        "\n",
        "    return pd.DataFrame(books_data)\n"
      ]
    },
    {
      "cell_type": "code",
      "execution_count": 15,
      "id": "398f0dc4",
      "metadata": {},
      "outputs": [
        {
          "name": "stdout",
          "output_type": "stream",
          "text": [
            "                UPC                                              Title  \\\n",
            "0  ce6396b0f23f6ecc                                        Set Me Free   \n",
            "1  6258a1f6a6dcfe50  The Four Agreements: A Practical Guide to Pers...   \n",
            "2  6be3beb0793a53e7                                     Sophie's World   \n",
            "3  657fe5ead67a7767            Untitled Collection: Sabbath Poems 2014   \n",
            "4  51653ef291ab7ddc                                    This One Summer   \n",
            "\n",
            "   Price (£)  Rating           Genre Availability  \\\n",
            "0      17.46       5     Young Adult     In stock   \n",
            "1      17.66       5    Spirituality     In stock   \n",
            "2      15.94       5      Philosophy     In stock   \n",
            "3      14.27       4          Poetry     In stock   \n",
            "4      19.49       4  Sequential Art     In stock   \n",
            "\n",
            "                                         Description  \n",
            "0  Aaron Ledbetter’s future had been planned out ...  \n",
            "1  In The Four Agreements, don Miguel Ruiz reveal...  \n",
            "2  A page-turning novel that is also an explorati...  \n",
            "3  More than thirty-five years ago, when the weat...  \n",
            "4  Every summer, Rose goes with her mom and dad t...  \n"
          ]
        }
      ],
      "source": [
        "df = scrape_books(min_rating=4, max_price=20)\n",
        "print(df.head())\n"
      ]
    },
    {
      "cell_type": "code",
      "execution_count": 16,
      "id": "a5933658",
      "metadata": {},
      "outputs": [
        {
          "data": {
            "application/vnd.microsoft.datawrangler.viewer.v0+json": {
              "columns": [
                {
                  "name": "index",
                  "rawType": "int64",
                  "type": "integer"
                },
                {
                  "name": "UPC",
                  "rawType": "object",
                  "type": "string"
                },
                {
                  "name": "Title",
                  "rawType": "object",
                  "type": "string"
                },
                {
                  "name": "Price (£)",
                  "rawType": "float64",
                  "type": "float"
                },
                {
                  "name": "Rating",
                  "rawType": "int64",
                  "type": "integer"
                },
                {
                  "name": "Genre",
                  "rawType": "object",
                  "type": "string"
                },
                {
                  "name": "Availability",
                  "rawType": "object",
                  "type": "string"
                },
                {
                  "name": "Description",
                  "rawType": "object",
                  "type": "string"
                }
              ],
              "conversionMethod": "pd.DataFrame",
              "ref": "c4a126ff-d645-4e57-8354-5cc1f5eafcf7",
              "rows": [
                [
                  "0",
                  "ce6396b0f23f6ecc",
                  "Set Me Free",
                  "17.46",
                  "5",
                  "Young Adult",
                  "In stock",
                  "Aaron Ledbetter’s future had been planned out for him since before he was born. Each year, the Ledbetter family vacation on Tybee Island gave Aaron a chance to briefly free himself from his family’s expectations. When he meets Jonas “Lucky” Luckett, a caricature artist in town with the traveling carnival, he must choose between the life that’s been mapped out for him, and Aaron Ledbetter’s future had been planned out for him since before he was born. Each year, the Ledbetter family vacation on Tybee Island gave Aaron a chance to briefly free himself from his family’s expectations. When he meets Jonas “Lucky” Luckett, a caricature artist in town with the traveling carnival, he must choose between the life that’s been mapped out for him, and the chance at true love. ...more"
                ],
                [
                  "1",
                  "6258a1f6a6dcfe50",
                  "The Four Agreements: A Practical Guide to Personal Freedom",
                  "17.66",
                  "5",
                  "Spirituality",
                  "In stock",
                  "In The Four Agreements, don Miguel Ruiz reveals the source of self-limiting beliefs that rob us of joy and create needless suffering. Based on ancient Toltec wisdom, the Four Agreements offer a powerful code of conduct that can rapidly transform our lives to a new experience of freedom, true happiness, and love. The Four Agreements are: Be Impeccable With Your Word, Don't In The Four Agreements, don Miguel Ruiz reveals the source of self-limiting beliefs that rob us of joy and create needless suffering. Based on ancient Toltec wisdom, the Four Agreements offer a powerful code of conduct that can rapidly transform our lives to a new experience of freedom, true happiness, and love. The Four Agreements are: Be Impeccable With Your Word, Don't Take Anything Personally, Don't Make Assumptions, Always Do Your Best. ...more"
                ],
                [
                  "2",
                  "6be3beb0793a53e7",
                  "Sophie's World",
                  "15.94",
                  "5",
                  "Philosophy",
                  "In stock",
                  "A page-turning novel that is also an exploration of the great philosophical concepts of Western thought, Sophie’s World has fired the imagination of readers all over the world, with more than twenty million copies in print.One day fourteen-year-old Sophie Amundsen comes home from school to find in her mailbox two notes, with one question on each: “Who are you?” and “Where A page-turning novel that is also an exploration of the great philosophical concepts of Western thought, Sophie’s World has fired the imagination of readers all over the world, with more than twenty million copies in print.One day fourteen-year-old Sophie Amundsen comes home from school to find in her mailbox two notes, with one question on each: “Who are you?” and “Where does the world come from?” From that irresistible beginning, Sophie becomes obsessed with questions that take her far beyond what she knows of her Norwegian village. Through those letters, she enrolls in a kind of correspondence course, covering Socrates to Sartre, with a mysterious philosopher, while receiving letters addressed to another girl. Who is Hilde? And why does her mail keep turning up? To unravel this riddle, Sophie must use the philosophy she is learning—but the truth turns out to be far more complicated than she could have imagined. ...more"
                ],
                [
                  "3",
                  "657fe5ead67a7767",
                  "Untitled Collection: Sabbath Poems 2014",
                  "14.27",
                  "4",
                  "Poetry",
                  "In stock",
                  "More than thirty-five years ago, when the weather allowed, Wendell Berry began spending his sabbaths outdoors, walking and wandering around familiar territory, seeking a deep intimacy only time could provide. These walks arranged themselves into poems and each year since he has completed a sequence dated by the year of its composition. Last year we collected the lot into a More than thirty-five years ago, when the weather allowed, Wendell Berry began spending his sabbaths outdoors, walking and wandering around familiar territory, seeking a deep intimacy only time could provide. These walks arranged themselves into poems and each year since he has completed a sequence dated by the year of its composition. Last year we collected the lot into a collection, This Day, the Sabbath Poems 1979-2013. This new sequence for the following year is one of the richest yet. This group provides a virtual syllabus for all of Mr. Berry’s cultural and agricultural work in concentrated form. Many of these poems are drawn from the view from a small porch in the woods, a place of stillness and reflection, a vantage point “of the one/life of the forest composed/of uncountable lives in countless/years each life coherent itself within/ the coherence, the great composure,/of all.” A new collection of Wendell Berry poems is always an occasion of joyful celebration and this one is especially so. ...more"
                ],
                [
                  "4",
                  "51653ef291ab7ddc",
                  "This One Summer",
                  "19.49",
                  "4",
                  "Sequential Art",
                  "In stock",
                  "Every summer, Rose goes with her mom and dad to a lake house in Awago Beach. It's their getaway, their refuge. Rosie's friend Windy is always there, too, like the little sister she never had. But this summer is different. Rose's mom and dad won't stop fighting, and when Rose and Windy seek a distraction from the drama, they find themselves with a whole new set of problems. Every summer, Rose goes with her mom and dad to a lake house in Awago Beach. It's their getaway, their refuge. Rosie's friend Windy is always there, too, like the little sister she never had. But this summer is different. Rose's mom and dad won't stop fighting, and when Rose and Windy seek a distraction from the drama, they find themselves with a whole new set of problems. It's a summer of secrets and sorrow and growing up, and it's a good thing Rose and Windy have each other.In This One Summer two stellar creators redefine the teen graphic novel. Cousins Mariko and Jillian Tamaki, the team behind Skim, have collaborated on this gorgeous, heartbreaking, and ultimately hopeful story about a girl on the cusp of her teen age — a story of renewal and revelation. ...more"
                ],
                [
                  "5",
                  "709822d0b5bcb7f4",
                  "Thirst",
                  "17.27",
                  "5",
                  "Fiction",
                  "In stock",
                  "On a searing summer Friday, Eddie Chapman has been stuck for hours in a traffic jam. There are accidents along the highway, but ambulances and police are conspicuously absent. When he decides to abandon his car and run home, he sees that the trees along the edge of a stream have been burnt, and the water in the streambed is gone. Something is very wrong.When he arrives hom On a searing summer Friday, Eddie Chapman has been stuck for hours in a traffic jam. There are accidents along the highway, but ambulances and police are conspicuously absent. When he decides to abandon his car and run home, he sees that the trees along the edge of a stream have been burnt, and the water in the streambed is gone. Something is very wrong.When he arrives home, the power is out and there is no running water. The pipes everywhere, it seems, have gone dry. Eddie and his wife, Laura, find themselves thrust together with their neighbors while a sense of unease thickens in the stifling night air. Thirst takes place in the immediate aftermath of a mysterious disaster--the Chapmans and their neighbors suffer the effects of the heat, their thirst, and the terrifying realization that no one is coming to help. As violence rips through the community, Eddie and Laura are forced to recall secrets from their past and question their present humanity. In crisp and convincing prose, Ben Warner compels readers to do the same. What might you do to survive? ...more"
                ],
                [
                  "6",
                  "0fa6dceead7ce47a",
                  "Princess Jellyfish 2-in-1 Omnibus, Vol. 01 (Princess Jellyfish 2-in-1 Omnibus #1)",
                  "13.61",
                  "5",
                  "Sequential Art",
                  "In stock",
                  "THE LONG-AWAITED STORY OF FANGIRLS TAKING ON TOKYO!Special large-size 2-in-1 edition of over 400 pages!\"One of the best anime and manga for beginners. Enthusiasm - geeky and otherwise - is power in Princess Jellyfish. Enthusiasm saves the day and paves the road to the future.\" - Kotaku\"Princess Jellyfish's ambition is simple: to tell a delightful story in a delightful way. THE LONG-AWAITED STORY OF FANGIRLS TAKING ON TOKYO!Special large-size 2-in-1 edition of over 400 pages!\"One of the best anime and manga for beginners. Enthusiasm - geeky and otherwise - is power in Princess Jellyfish. Enthusiasm saves the day and paves the road to the future.\" - Kotaku\"Princess Jellyfish's ambition is simple: to tell a delightful story in a delightful way... It's a pretty deadly one-two punch.\" - Anime News Network\"Loaded with heart, soul, humor and insight.\" - About.comSTINGING BEAUTY Tsukimi Kurashita has a strange fascination with jellyfish. She’s loved them from a young age and has carried that love with her to her new life in the big city of Tokyo. There, she resides in Amamizukan, a safe-haven for girl geeks who regularly gush over a range of things from trains to Japanese dolls. However, a chance meeting at a pet shop has Tsukimi crossing paths with one of the things that the residents of Amamizukan have been desperately trying to avoid—a beautiful and fashionable woman! But there’s much more to this woman than her trendy clothes! This odd encounter is only the beginning of a new and unexpected path for Tsukimi and her friends. ...more"
                ],
                [
                  "7",
                  "0e691eda369f4e09",
                  "Princess Between Worlds (Wide-Awake Princess #5)",
                  "13.34",
                  "5",
                  "Fantasy",
                  "In stock",
                  "Just as Annie and Liam are busy making plans to travel the world, a witch shows up and gives them a collection of postcards from the Magic Marketplace. Each postcard gives Annie and Liam the opportunity to travel to exotic lands and far-flung kingdoms. What the witch doesn't give them are directions on how to safely return."
                ],
                [
                  "8",
                  "889139b8e9c4cb36",
                  "Outcast, Vol. 1: A Darkness Surrounds Him (Outcast #1)",
                  "15.44",
                  "4",
                  "Sequential Art",
                  "In stock",
                  "NEW HORROR SERIES FROM THE WALKING DEAD CREATOR ROBERT KIRKMAN! Kyle Barnes has been plagued by demonic possession all his life and now he needs answers. Unfortunately, what he uncovers along the way could bring about the end of life on Earth as we know it. Collects OUTCAST BY KIRKMAN & AZACETA #1-6."
                ],
                [
                  "9",
                  "72f9d5be3472d34e",
                  "Mama Tried: Traditional Italian Cooking for the Screwed, Crude, Vegan, and Tattooed",
                  "14.02",
                  "4",
                  "Food and Drink",
                  "In stock",
                  "Cecilia Granata grew up cooking with her family in Italy. As a vegan, she learned to adapt her favorite recipes from around the country to be animal free while retaining the flavor and feeling of true Italian home cooking. She shares her commitment to ethical and artful eating in this alphabetically-arranged volume with over 100 recipes, ranging from traditional favorites Cecilia Granata grew up cooking with her family in Italy. As a vegan, she learned to adapt her favorite recipes from around the country to be animal free while retaining the flavor and feeling of true Italian home cooking. She shares her commitment to ethical and artful eating in this alphabetically-arranged volume with over 100 recipes, ranging from traditional favorites to homemade liqueurs to aphrodisiacs—all \"senza sofferenza,\" without suffering. The recipes are lushly illustrated with Granata's food-inspired tattoo art. ...more"
                ],
                [
                  "10",
                  "9e28048cea8d41f7",
                  "First and First (Five Boroughs #3)",
                  "15.97",
                  "4",
                  "Romance",
                  "In stock",
                  "Caleb Stone was raised on the Upper East Side, where wealth and lineage reigns, and “alternative lifestyles” are hidden. It took him years to come out to his family, but he’s still stuck in the stranglehold of their expectations. Caleb knows he has to build his confidence and shake things up, but he doesn’t know how… until Oliver Buckley enters the picture.Oli is everythin Caleb Stone was raised on the Upper East Side, where wealth and lineage reigns, and “alternative lifestyles” are hidden. It took him years to come out to his family, but he’s still stuck in the stranglehold of their expectations. Caleb knows he has to build his confidence and shake things up, but he doesn’t know how… until Oliver Buckley enters the picture.Oli is everything Caleb isn’t—risk-taking, provocative, and fiercely independent. Disowned by his family, Oli has made his own way in the world and is beholden to no one. After a chance encounter on New Year’s Eve, Caleb is smitten.As Caleb sheds the insecurities that have held him back for years, he makes bold steps toward changing his career and escaping years of sexual repression. But for Caleb to take full control of his life, he has to be brave enough to confront his feelings and trust Oli with his heart. ...more"
                ],
                [
                  "11",
                  "7b599c8bfcdd8d30",
                  "Camp Midnight",
                  "17.08",
                  "4",
                  "Sequential Art",
                  "In stock",
                  "Ben 10 and Big Hero 6 creator Steven T. Seagle returns to comics with New Yorker Magazine cartoonist Jason Adam Katzenstein for a new graphic novel! Reluctant Skye is accidentally sent to the wrong summer camp. Not wanting to please her \"step monster,\" Skye is dead-set on not fitting in. That won't be a problem, as everyone at Camp Midnight-with the exception of fellow cam Ben 10 and Big Hero 6 creator Steven T. Seagle returns to comics with New Yorker Magazine cartoonist Jason Adam Katzenstein for a new graphic novel! Reluctant Skye is accidentally sent to the wrong summer camp. Not wanting to please her \"step monster,\" Skye is dead-set on not fitting in. That won't be a problem, as everyone at Camp Midnight-with the exception of fellow camper and fast-friend Mia-is a full-fledged monster! The perfect book for fans of Raina Telgemeier's \"Smile, \" but wish it had more bowls of gooey eyeballs. ...more"
                ],
                [
                  "12",
                  "3bebf34ee9330cbd",
                  "The Third Wave: An Entrepreneur’s Vision of the Future",
                  "12.61",
                  "5",
                  "Business",
                  "In stock",
                  "NEW YORK TIMES BESTSELLERWALL STREET JOURNAL BESTSELLEROne of America’s most accomplished entrepreneurs—a pioneer who made the Internet part of everyday life and orchestrated the largest merger in the history of business—shares a roadmap for how anyone can succeed in a world of rapidly changing technology.Steve Case’s career began when he cofounded America Online (AOL) in NEW YORK TIMES BESTSELLERWALL STREET JOURNAL BESTSELLEROne of America’s most accomplished entrepreneurs—a pioneer who made the Internet part of everyday life and orchestrated the largest merger in the history of business—shares a roadmap for how anyone can succeed in a world of rapidly changing technology.Steve Case’s career began when he cofounded America Online (AOL) in 1985. At the time, only three percent of Americans were online. It took a decade for AOL to achieve mainstream success, and there were many near-death experiences and back-to-the-wall pivots. AOL became the top performing company of the 1990s, and at its peak more than half of all consumer Internet traffic in the United States ran through the service. After Case engineered AOL’s merger with Time Warner and he became Chairman of the combined business, Case oversaw the biggest media and communications empire in the world. In The Third Wave, which pays homage to the work of the futurist Alvin Toffler (from whom Case has borrowed the title, and whose work inspired him as a young man), Case takes us behind the scenes of some of the most consequential and riveting business decisions of our time while offering illuminating insights from decades of working as an entrepreneur, an investor, a philanthropist, and an advocate for sensible bipartisan policies. We are entering, as Case explains, a new paradigm called the “Third Wave” of the Internet. The first wave saw AOL and other companies lay the foundation for consumers to connect to the Internet. The second wave saw companies like Google and Facebook build on top of the Internet to create search and social networking capabilities, while apps like Snapchat and Instagram leverage the smartphone revolution. Now, Case argues, we’re entering the Third Wave: a period in which entrepreneurs will vastly transform major “real world” sectors like health, education, transportation, energy, and food—and in the process change the way we live our daily lives. But success in the Third Wave will require a different skill set, and Case outlines the path forward.The Third Wave is part memoir, part manifesto, and part playbook for the future. With passion and clarity, Case explains the ways in which newly emerging technology companies (a growing number of which, he argues, will not be based in Silicon Valley) will have to rethink their relationships with customers, with competitors, and with governments; and offers advice for how entrepreneurs can make winning business decisions and strategies—and how all of us can make sense of this changing digital age. ...more"
                ],
                [
                  "13",
                  "f5a92cff83897d48",
                  "The Stranger",
                  "17.44",
                  "4",
                  "Philosophy",
                  "In stock",
                  "This is an alternate cover edition for ISBN 0679720200.Through the story of an ordinary man unwittingly drawn into a senseless murder on an Algerian beach, Camus explored what he termed \"the nakedness of man faced with the absurd.\" First published in English in 1946; now in a new translation by Matthew Ward."
                ],
                [
                  "14",
                  "ca71e72655bece85",
                  "Something More Than This",
                  "16.24",
                  "4",
                  "Romance",
                  "In stock",
                  "Katy Lewis has it all: a sports reporting job she loves, a great roommate, and two brothers who, while nosy, always have her back. But when Conner Roberts, Katy’s unrequited first crush, suddenly shows up—and shows interest—after nine years, she reverts to a sweaty, panicked sixteen-year-old once more.And if trying to read Conner’s signals isn’t tough enough, Katy’s heart Katy Lewis has it all: a sports reporting job she loves, a great roommate, and two brothers who, while nosy, always have her back. But when Conner Roberts, Katy’s unrequited first crush, suddenly shows up—and shows interest—after nine years, she reverts to a sweaty, panicked sixteen-year-old once more.And if trying to read Conner’s signals isn’t tough enough, Katy’s heart is sending some mixed messages of its own. When a beautiful blonde coworker starts pursuing Katy’s boss, Dylan Sterling—her longtime mentor and friend—she realizes she may have a problem with that. A reunion with Conner is what she’s dreamed of for so long…so why can’t she stop thinking about Dylan?For the first time ever, Katy must fact-check her heart. Should she go after the guy she thought she always wanted or see if there’s something more with the one who’s been there all along? ...more"
                ],
                [
                  "15",
                  "31001a1210623bd4",
                  "Poems That Make Grown Women Cry",
                  "14.19",
                  "4",
                  "Poetry",
                  "In stock",
                  "Following the success of their anthology Poems That Make Grown Men Cry, father-and-son team Anthony and Ben Holden, working with Amnesty International, have asked the same revealing question of 100 remarkable women. What poem has moved you to tears?The poems chosen range from the eighth century to today, from Rumi and Shakespeare to Sylvia Plath, W.H. Auden to Carol Ann Du Following the success of their anthology Poems That Make Grown Men Cry, father-and-son team Anthony and Ben Holden, working with Amnesty International, have asked the same revealing question of 100 remarkable women. What poem has moved you to tears?The poems chosen range from the eighth century to today, from Rumi and Shakespeare to Sylvia Plath, W.H. Auden to Carol Ann Duffy, Pablo Neruda and Derek Walcott to Imtiaz Dharker and Warsan Shire. Their themes range from love and loss, through mortality and mystery, war and peace, to the beauty and variety of nature. From Yoko Ono to Judi Dench, Chimamanda Ngozi Adichie to Elena Ferrante, Carol Ann Duffy to Kaui Hart Hemmings, and Joan Baez to Nikki Giovanni, this unique collection delivers private insights into the minds of women whose writing, acting, and thinking are admired around the world. ...more"
                ],
                [
                  "16",
                  "88c21fcd38e2486e",
                  "Dark Notes",
                  "19.19",
                  "5",
                  "Erotica",
                  "In stock",
                  "They call me a slut. Maybe I am.Sometimes I do things I despise.Sometimes men take without asking.But I have a musical gift, only a year left of high school, and a plan.With one obstacle.Emeric Marceaux doesn’t just take.He seizes my will power and bangs it like a dark note.When he commands me to play, I want to give him everything.I kneel for his punishments, tremble for They call me a slut. Maybe I am.Sometimes I do things I despise.Sometimes men take without asking.But I have a musical gift, only a year left of high school, and a plan.With one obstacle.Emeric Marceaux doesn’t just take.He seizes my will power and bangs it like a dark note.When he commands me to play, I want to give him everything.I kneel for his punishments, tremble for his touch, and risk it all for our stolen moments.He’s my obsession, my master, my music.And my teacher. ...more"
                ],
                [
                  "17",
                  "47271d8e08b5d31c",
                  "Batman: The Dark Knight Returns (Batman)",
                  "15.38",
                  "5",
                  "Sequential Art",
                  "In stock",
                  "This masterpiece of modern comics storytelling brings to vivid life a dark world and an even darker man. Together with inker Klaus Janson and colorist Lynn Varley, writer/artist Frank Miller completely reinvents the legend of Batman in his saga of a near-future Gotham City gone to rot, ten years after the Dark Knight's retirement. Crime runs rampant in the streets, and the This masterpiece of modern comics storytelling brings to vivid life a dark world and an even darker man. Together with inker Klaus Janson and colorist Lynn Varley, writer/artist Frank Miller completely reinvents the legend of Batman in his saga of a near-future Gotham City gone to rot, ten years after the Dark Knight's retirement. Crime runs rampant in the streets, and the man who was Batman is still tortured by the memories of his parents' murders. As civil society crumbles around him, Bruce Wayne's long-suppressed vigilante side finally breaks free of its self-imposed shackles. The Dark Knight returns in a blaze of fury, taking on a whole new generation of criminals and matching their level of violence. He is soon joined by this generation's Robin — a girl named Carrie Kelley, who proves to be just as invaluable as her predecessors.But can Batman and Robin deal with the threat posed by their deadliest enemies, after years of incarceration have made them into perfect psychopaths? And more important, can anyone survive the coming fallout of an undeclared war between the superpowers - or a clash of what were once the world's greatest superheroes?Over fifteen years after its debut, 'Batman: The Dark Knight Returns' remains an undisputed classic and one of the most influential stories ever told in the comics medium.Collecting BATMAN: THE DARK KNIGHT RETURNS #1-4 ...more"
                ],
                [
                  "18",
                  "d195e7f4ed697350",
                  "Agnostic: A Spirited Manifesto",
                  "12.51",
                  "5",
                  "Nonfiction",
                  "In stock",
                  "A widely admired writer on religion celebrates agnosticism as the most vibrant, engaging—and ultimately the most honest—stance toward the mysteries of existence. One in four Americans reject any affiliation with organized religion, and nearly half of those under thirty describe themselves as “spiritual but not religious.” But as the airwaves resound with the haranguing of A widely admired writer on religion celebrates agnosticism as the most vibrant, engaging—and ultimately the most honest—stance toward the mysteries of existence. One in four Americans reject any affiliation with organized religion, and nearly half of those under thirty describe themselves as “spiritual but not religious.” But as the airwaves resound with the haranguing of preachers and pundits, who speaks for the millions who find no joy in whittling the wonder of existence to a simple yes/no choice? Lesley Hazleton does. In this provocative, brilliant book, she gives voice to the case for agnosticism, breaks it free of its stereotypes as watered-down atheism or amorphous “seeking,” and celebrates it as a reasoned, revealing, and sustaining stance toward life. Stepping over the lines imposed by rigid conviction, she draws on philosophy, theology, psychology, science, and more to explore, with curiosity and passion, the vital role of mystery in a deceptively information-rich world; to ask what we mean by the search for meaning; to invoke the humbling yet elating perspective of infinity; to challenge received ideas about death; and to reconsider what “the soul” might be. Inspired and inspiring, Agnostic recasts the question of belief not as a problem to be solved but as an invitation to an ongoing, open-ended adventure of the mind. ...more"
                ],
                [
                  "19",
                  "6a31307a81e8f3a8",
                  "Walt Disney's Alice in Wonderland",
                  "12.96",
                  "5",
                  "Childrens",
                  "In stock",
                  "The fantastical tale of a young girl chasing her White Rabbit has delighted children since Lewis Carroll wrote it generations ago. Here his Wonderland shines anew, viewed through the looking glasses of two incomparable artists.Mary Blair's vibrant art helped shape the look of Walt Disney's classic animated film. Collected in a picture book for the first time, her illustrat The fantastical tale of a young girl chasing her White Rabbit has delighted children since Lewis Carroll wrote it generations ago. Here his Wonderland shines anew, viewed through the looking glasses of two incomparable artists.Mary Blair's vibrant art helped shape the look of Walt Disney's classic animated film. Collected in a picture book for the first time, her illustrations capture the essence of such memorable characters as the Queen of Hearts and the Mad Hatter with stunning immediacy. Jon Scieszka's captivating text celebrates all that is curious-and all that is nonsensical-about the world that holds Alice spellbound, from a deliciously absurd tea party to the spectacle of a kingdom of playing cards . Brimming with wit and wonder, this sparkling retelling will enchant readers from the moment Alice falls down the rabbit hole, whether or not they've made the journey before. ...more"
                ],
                [
                  "20",
                  "ac8e3949d284e9a9",
                  "Superman Vol. 1: Before Truth (Superman by Gene Luen Yang #1)",
                  "11.89",
                  "5",
                  "Sequential Art",
                  "In stock",
                  "Superman is going through some changes. First, there's his new \"solar flare\" power, which releases tremendous amounts of energy but leaves him functionally human - fragile, vulnerable, prone to hangovers - for 24 hours.But an even bigger change is coming. A new company called Hordr has sprung up, and its business is secrets. If you have one that you want to keep hidden, Hr Superman is going through some changes. First, there's his new \"solar flare\" power, which releases tremendous amounts of energy but leaves him functionally human - fragile, vulnerable, prone to hangovers - for 24 hours.But an even bigger change is coming. A new company called Hordr has sprung up, and its business is secrets. If you have one that you want to keep hidden, Hrdr can control you - and no one has a bigger secret than Clark Kent.Now, Hordr is threatening to expose Clark's alter ego unless he does everything they command. Will Superman play into the hands of blackmailers to keep his loved ones out of danger? And if the truth that Superman has been hiding is exposed, will it set him free - or ruin his life?A new era for the Man of Steel begins here - crafted by National Book Award nominee Gene Luen Yang (American Born Chinese) and legendary artists John Romita Jr. (Kick-Ass, The Amazing Spider-Man) and Klaus Janson (BATMAN: THE DARK KNIGHT RETURNS). Collects issues #40-44 and the 8-page Superman story from DIVERGENCE: FCBD SPECIAL EDITION #1. ...more"
                ],
                [
                  "21",
                  "02b74068fa98d8a4",
                  "Old School (Diary of a Wimpy Kid #10)",
                  "11.83",
                  "5",
                  "Humor",
                  "In stock",
                  "In the latest installment of the phenomenally bestselling Diary of a Wimpy Kid series, author-illustrator Jeff Kinney brings the series back to its roots, as Greg starts a new school year and faces a challenge he never could've imagined. In the latest installment of the phenomenally bestselling Diary of a Wimpy Kid series, author-illustrator Jeff Kinney brings the series back to its roots, as Greg starts a new school year and faces a challenge he never could've imagined.  ...more"
                ],
                [
                  "22",
                  "708345c9897fd7c5",
                  "Lady Midnight (The Dark Artifices #1)",
                  "16.28",
                  "5",
                  "Default",
                  "In stock",
                  "In a kingdom by the sea…In a secret world where half-angel warriors are sworn to fight demons, parabatai is a sacred word.A parabatai is your partner in battle. A parabatai is your best friend. Parabatai can be everything to each other—but they can never fall in love.Emma Carstairs is a warrior, a Shadowhunter, and the best in her generation. She lives for battle. Shoulder In a kingdom by the sea…In a secret world where half-angel warriors are sworn to fight demons, parabatai is a sacred word.A parabatai is your partner in battle. A parabatai is your best friend. Parabatai can be everything to each other—but they can never fall in love.Emma Carstairs is a warrior, a Shadowhunter, and the best in her generation. She lives for battle. Shoulder to shoulder with her parabatai, Julian Blackthorn, she patrols the streets of Los Angeles, where vampires party on the Sunset Strip, and faeries—the most powerful of supernatural creatures—teeter on the edge of open war with Shadowhunters. When the bodies of humans and faeries turn up murdered in the same way Emma’s parents were when she was a child, an uneasy alliance is formed. This is Emma’s chance for revenge—and Julian’s chance to get back his brother Mark, who is being held prisoner by the faerie Courts. All Emma, Mark, and Julian have to do is solve the murders within two weeks…and before the murderer targets them.Their search takes Emma from sea caves full of sorcery to a dark lottery where death is dispensed. And each clue she unravels uncovers more secrets. What has Julian been hiding from her all these years? Why does Shadowhunter Law forbid parabatai to fall in love? Who really killed her parents—and can she bear to know the truth?The darkly magical world of Shadowhunters has captured the imaginations of millions of readers across the globe. Join the adventure in Lady Midnight, the long-awaited first volume of a new trilogy from Cassandra Clare. ...more"
                ],
                [
                  "23",
                  "aeff7b87a8e83ebb",
                  "I Am Pilgrim (Pilgrim #1)",
                  "10.6",
                  "4",
                  "Fiction",
                  "In stock",
                  "A breakneck race against time...and an implacable enemy.An anonymous young woman murdered in a run-down hotel, all identifying characteristics dissolved by acid. A father publicly beheaded in the blistering heat of a Saudi Arabian public square. A notorious Syrian biotech expert found eyeless in a Damascus junkyard. Smoldering human remains on a remote mountainside in Afgh A breakneck race against time...and an implacable enemy.An anonymous young woman murdered in a run-down hotel, all identifying characteristics dissolved by acid. A father publicly beheaded in the blistering heat of a Saudi Arabian public square. A notorious Syrian biotech expert found eyeless in a Damascus junkyard. Smoldering human remains on a remote mountainside in Afghanistan. A flawless plot to commit an appalling crime against humanity. One path links them all, and only one man can make the journey.Pilgrim. ...more"
                ],
                [
                  "24",
                  "fbb21a2f71f4d981",
                  "Hyperbole and a Half: Unfortunate Situations, Flawed Coping Mechanisms, Mayhem, and Other Things That Happened",
                  "14.75",
                  "5",
                  "Humor",
                  "In stock",
                  "This is a book I wrote. Because I wrote it, I had to figure out what to put on the back cover to explain what it is. I tried to write a long, third-person summary that would imply how great the book is and also sound vaguely authoritative--like maybe someone who isn’t me wrote it--but I soon discovered that I’m not sneaky enough to pull it off convincingly. So I decided to This is a book I wrote. Because I wrote it, I had to figure out what to put on the back cover to explain what it is. I tried to write a long, third-person summary that would imply how great the book is and also sound vaguely authoritative--like maybe someone who isn’t me wrote it--but I soon discovered that I’m not sneaky enough to pull it off convincingly. So I decided to just make a list of things that are in the book:PicturesWordsStories about things that happened to meStories about things that happened to other people because of meEight billion dollars*Stories about dogsThe secret to eternal happiness**These are lies. Perhaps I have underestimated my sneakiness! ...more"
                ],
                [
                  "25",
                  "f201f263d8c23f97",
                  "Greek Mythic History",
                  "10.23",
                  "5",
                  "Default",
                  "In stock",
                  "As far back as the fifth century BCE Pherecydes and others attempted to integrate city-state stories into a coherent mythic Greek pre-history. Science unavailable to ancient sources helped guide author Spencer Clevenger to critical insights and intriguing results. In \"Greek Mythic History,\" he weaves myths concerning gods, kings, and heroes into their intended time and pla As far back as the fifth century BCE Pherecydes and others attempted to integrate city-state stories into a coherent mythic Greek pre-history. Science unavailable to ancient sources helped guide author Spencer Clevenger to critical insights and intriguing results. In \"Greek Mythic History,\" he weaves myths concerning gods, kings, and heroes into their intended time and place and offers a concise retelling of Greek myths from a historic perspective. Capitalizing on modern discoveries, Clevenger tells the story in chronological order, starting with the creation of the cosmos and ending in the Dark Ages when poets began to write down their myths and stories. Neither history nor mythology, the stories depict what history might be if the myths were interpreted more literally.With maps and exhibits included, \"Greek Mythic History\" provides a comprehensive retelling of the various Hellenic myths in a logical historical sequence, and places nearly the entire canon into context. ...more"
                ],
                [
                  "26",
                  "ac4dde0d1be05de0",
                  "Far & Away: Places on the Brink of Change: Seven Continents, Twenty-Five Years",
                  "15.06",
                  "4",
                  "Nonfiction",
                  "In stock",
                  "From the winner of the National Book Award and the National Books Critics’ Circle Award—and one of the most original thinkers of our time—a riveting collection of essays about places in dramatic transition.Far and Away collects Andrew Solomon’s writings about places undergoing seismic shifts—political, cultural, and spiritual. Chronicling his stint on the barricades in Mos From the winner of the National Book Award and the National Books Critics’ Circle Award—and one of the most original thinkers of our time—a riveting collection of essays about places in dramatic transition.Far and Away collects Andrew Solomon’s writings about places undergoing seismic shifts—political, cultural, and spiritual. Chronicling his stint on the barricades in Moscow in 1991, when he joined artists in resisting the coup whose failure ended the Soviet Union, his 2002 account of the rebirth of culture in Afghanistan following the fall of the Taliban, his insightful appraisal of a Myanmar seeped in contradictions as it slowly, fitfully pushes toward freedom, and many other stories of profound upheaval, this book provides a unique window onto the very idea of social change. With his signature brilliance and compassion, Solomon demonstrates both how history is altered by individuals, and how personal identities are altered when governments alter.A journalist and essayist of remarkable perception and prescience, Solomon captures the essence of these cultures. Ranging across seven continents and twenty-five years, Far and Away takes a magnificent journey into the heart of extraordinarily diverse experiences, yet Solomon finds a common humanity wherever he travels. Illuminating the development of his own genius, his stories are always intimate and often both funny and deeply moving. ...more"
                ],
                [
                  "27",
                  "1d6dd0c87d90fe92",
                  "Eight Hundred Grapes",
                  "14.39",
                  "4",
                  "Fiction",
                  "In stock",
                  "There are secrets you share, and secrets you hide…Growing up on her family’s Sonoma vineyard, Georgia Ford learned some important secrets. The secret number of grapes it takes to make a bottle of wine: eight hundred. The secret ingredient in her mother’s lasagna: chocolate. The secret behind ending a fight: hold hands.But just a week before her wedding, thirty-year-old Geo There are secrets you share, and secrets you hide…Growing up on her family’s Sonoma vineyard, Georgia Ford learned some important secrets. The secret number of grapes it takes to make a bottle of wine: eight hundred. The secret ingredient in her mother’s lasagna: chocolate. The secret behind ending a fight: hold hands.But just a week before her wedding, thirty-year-old Georgia discovers her beloved fiancé has been keeping a secret so explosive, it will change their lives forever.Georgia does what she’s always done: she returns to the family vineyard, expecting the comfort of her long-married parents, and her brothers, and everything familiar. But it turns out her fiancé is not the only one who’s been keeping secrets… ...more"
                ],
                [
                  "28",
                  "94a958ea126cdcd5",
                  "Dear Mr. Knightley",
                  "11.21",
                  "5",
                  "Fiction",
                  "In stock",
                  "Dear Mr. Knightley is a contemporary epistolary novel with a delightful dash of Jane Austen.Samantha Moore survived years of darkness in the foster care system by hiding behind her favorite characters in literature, even adopting their very words. Her fictional friends give her an identity, albeit a borrowed one. But most importantly, they protect her from revealing her tr Dear Mr. Knightley is a contemporary epistolary novel with a delightful dash of Jane Austen.Samantha Moore survived years of darkness in the foster care system by hiding behind her favorite characters in literature, even adopting their very words. Her fictional friends give her an identity, albeit a borrowed one. But most importantly, they protect her from revealing her true self and encountering more pain.After college, Samantha receives an extraordinary opportunity. The anonymous “Mr. Knightley” offers her a full scholarship to earn her graduate degree at the prestigious Medill School of Journalism. The sole condition is that Sam write to Mr. Knightley regularly to keep him apprised of her progress.As Sam’s true identity begins to reveal itself through her letters, her heart begins to soften to those around her—a damaged teenager and fellow inhabitant of Grace House, her classmates at Medill, and, most powerfully, successful novelist Alex Powell. But just as Sam finally begins to trust, she learns that Alex has secrets of his own—secrets that, for better or for worse, make it impossible for Sam to hide behind either her characters or her letters. ...more"
                ],
                [
                  "29",
                  "1e264c677d4ee4ae",
                  "City of Fallen Angels (The Mortal Instruments #4)",
                  "11.23",
                  "4",
                  "Default",
                  "In stock",
                  "The Mortal War is over, and sixteen-year-old Clary Fray is back home in New York, excited about all the possibilities before her. She’s training to become a Shadowhunter and to use her unique power. Her mother is getting married to the love of her life. Downworlders and Shadowhunters are at peace at last. And—most importantly of all—she can finally call Jace her boyfriend. The Mortal War is over, and sixteen-year-old Clary Fray is back home in New York, excited about all the possibilities before her. She’s training to become a Shadowhunter and to use her unique power. Her mother is getting married to the love of her life. Downworlders and Shadowhunters are at peace at last. And—most importantly of all—she can finally call Jace her boyfriend.But nothing comes without a price.Someone is murdering Shadowhunters, provoking tensions between Downworlders and Shadowhunters that could lead to a second, bloody war. Clary’s best friend, Simon, can’t help her—his mother just found out that he’s a vampire, and now he’s homeless. When Jace begins to pull away from her without explaining why, Clary is forced to delve into the heart of a mystery whose solution reveals her worst nightmare: she herself has set in motion a terrible chain of events that could lead to her losing everything she loves. Even Jace. ...more"
                ],
                [
                  "30",
                  "f732d7d18a91d2ba",
                  "The Epidemic (The Program 0.6)",
                  "14.44",
                  "5",
                  "Young Adult",
                  "In stock",
                  "Can one girl help others find closure by slipping into the identities of their loved ones? Find out in this riveting sequel to The Remedy and companion to the New York Times bestselling The Treatment and The Program.In a world before The Program…Quinlan McKee has spent her life acting as other people. She was a closer—a person hired to play the role of the recently decease Can one girl help others find closure by slipping into the identities of their loved ones? Find out in this riveting sequel to The Remedy and companion to the New York Times bestselling The Treatment and The Program.In a world before The Program…Quinlan McKee has spent her life acting as other people. She was a closer—a person hired to play the role of the recently deceased in order to give their families closure. Through this process, Quinn learned to read people and situations, even losing a bit of herself to do so. But she couldn’t have guessed how her last case would bring down her entire world.The only person Quinn trusts is Deacon, her best friend and the love of her life. Except Deacon’s been keeping secrets of his one, so Quinn must set out alone to find Arthur Pritchard, the doctor who’s been trying to control her life. The journey brings Quinn to Arthur’s daughter, Virginia, who tells Quinn the truth about Pritchard’s motives. The former closer will start to see that she is the first step in fighting an epidemic.But Quinlan doesn’t want to be a cure. And with all the lies surrounding her, she realizes she has no one left to rely on but herself—even if she doesn’t know who that is anymore. ...more"
                ],
                [
                  "31",
                  "81ef44fcc5f454df",
                  "One with You (Crossfire #5)",
                  "15.71",
                  "4",
                  "Add a comment",
                  "In stock",
                  "Gideon Cross. Falling in love with him was the easiest thing I've ever done. It happened instantly. Completely. Irrevocably.Marrying him was a dream come true. Staying married to him is the fight of my life. Love transforms. Ours is both a refuge from the storm and the most violent of tempests. Two damaged souls entwined as one.We have bared our deepest, ugliest secrets to Gideon Cross. Falling in love with him was the easiest thing I've ever done. It happened instantly. Completely. Irrevocably.Marrying him was a dream come true. Staying married to him is the fight of my life. Love transforms. Ours is both a refuge from the storm and the most violent of tempests. Two damaged souls entwined as one.We have bared our deepest, ugliest secrets to one another. Gideon is the mirror that reflects all my flaws ... and all the beauty I couldn't see. He has given me everything. Now, I must prove I can be the rock, the shelter for him that he is for me. Together, we could stand against those who work so viciously to come between us.But our greatest battle may lie within the very vows that give us strength. Committing to love was only the beginning. Fighting for it will either set us free ... or break us apart.Heartbreakingly and seductively poignant, One with You is the breathlessly awaited finale to the Crossfire® saga, the searing love story that has captivated millions of readers worldwide. ...more"
                ],
                [
                  "32",
                  "985991708c47003e",
                  "The Sleep Revolution: Transforming Your Life, One Night at a Time",
                  "11.68",
                  "4",
                  "Nonfiction",
                  "In stock",
                  "We are in the midst of a sleep deprivation crisis, writes Arianna Huffington, the co-founder and editor in chief of The Huffington Post. And this has profound consequences – on our health, our job performance, our relationships and our happiness. What is needed, she boldly asserts, is nothing short of a sleep revolution. Only by renewing our relationship with sleep can we We are in the midst of a sleep deprivation crisis, writes Arianna Huffington, the co-founder and editor in chief of The Huffington Post. And this has profound consequences – on our health, our job performance, our relationships and our happiness. What is needed, she boldly asserts, is nothing short of a sleep revolution.  Only by renewing our relationship with sleep can we take back control of our lives. In her bestseller Thrive, Arianna wrote about our need to redefine success through well-being, wisdom, wonder, and giving. Her discussion of the importance of sleep as a gateway to this more fulfilling way of living struck such a powerful chord that she realized the mystery and transformative power of sleep called for a fuller investigation. The result is a sweeping, scientifically rigorous, and deeply personal exploration of sleep from all angles, from the history of sleep, to the role of dreams in our lives, to the consequences of sleep deprivation, and the new golden age of sleep science that is revealing the vital role sleep plays in our every waking moment and every aspect of our health – from weight gain, diabetes, and heart disease to cancer and Alzheimer’s.   In The Sleep Revolution, Arianna shows how our cultural dismissal of sleep as time wasted compromises our health and our decision-making and undermines our work lives, our personal lives -- and even our sex lives. She explores all the latest science on what exactly is going on while we sleep and dream.  She takes on the dangerous sleeping pill industry, and all the ways our addiction to technology disrupts our sleep. She also offers a range of recommendations and tips from leading scientists on how we can get better and more restorative sleep, and harness its incredible power. In today's fast-paced, always-connected, perpetually-harried and sleep-deprived world, our need for a good night’s sleep is more important – and elusive -- than ever. The Sleep Revolution both sounds the alarm on our worldwide sleep crisis and provides a detailed road map to the great sleep awakening that can help   transform our lives, our communities, and our world. ...more"
                ],
                [
                  "33",
                  "28b2df9fadc9f07e",
                  "Mother, Can You Not?",
                  "16.89",
                  "5",
                  "Nonfiction",
                  "In stock",
                  "Based on the wildly popular Instagram account @CrazyJewishMom, Kate Siegel's essay collection about life with the woman who redefined the term \"helicopter mom\" There is nothing more wonderful than a mother’s love. There is also nothing more annoying. Who else can proudly insist that you’re perfect while simultaneously making you question every career, fashion, andrelation Based on the wildly popular Instagram account @CrazyJewishMom, Kate Siegel's essay collection about life with the woman who redefined the term \"helicopter mom\"   There is nothing more wonderful than a mother’s love. There is also nothing more annoying. Who else can proudly insist that you’re perfect while simultaneously making you question every career, fashion, and relationship decision you have ever made?   No one understands the delicate mother-daughter dynamic better than Kate Siegel—her own mother drove her so crazy that she decided to broadcast their hilarious conversations on Instagram. Soon, hundreds of thousands of people were following their daily text exchanges, eager to see what outrageous thing Kate’s mom would do next. Now, in Mother, Can You NOT?, Kate pays tribute to the woman who invented the concept of drone parenting.  From embarrassing moments (like crashing Kate's gynecological exams) to outrageous stories (like the time she made Kate steal a cat from the pound) to hilarious celebrations (including but not limited to parties for Kate's menstrual cycles), Mother, Can you NOT? lovingly lampoons the lengths to which our mothers will go to better our lives (even if it feels like they’re ruining them in the process). ...more"
                ],
                [
                  "34",
                  "40c4bf520c17de54",
                  "A Gentleman's Position (Society of Gentlemen #3)",
                  "14.75",
                  "5",
                  "Romance",
                  "In stock",
                  "Power, privilege, and the rigid rules of class leave two hearts yearning for connection in the sizzling new Society of Gentlemen novel from K. J. Charles. Among his eccentric though strictly principled group of friends, Lord Richard Vane is the confidant on whom everyone depends for advice, moral rectitude, and discreet assistance. Yet when Richard has a problem, he turns Power, privilege, and the rigid rules of class leave two hearts yearning for connection in the sizzling new Society of Gentlemen novel from K. J. Charles.  Among his eccentric though strictly principled group of friends, Lord Richard Vane is the confidant on whom everyone depends for advice, moral rectitude, and discreet assistance. Yet when Richard has a problem, he turns to his valet, a fixer of unparalleled genius—and the object of Richard’s deepest desires. If there is one rule a gentleman must follow, it is never to dally with servants. But when David is close enough to touch, the rules of class collide with the basest sort of animal instinct: overpowering lust.   For David Cyprian, burglary and blackmail are as much in a day’s work as bootblacking—anything for the man he’s devoted to. But the one thing he wants for himself is the one thing Richard refuses to give: his heart. With the tension between them growing to be unbearable, David’s seemingly incorruptible master has left him no choice. Putting his finely honed skills of seduction and manipulation to good use, he will convince Richard to forget all about his well-meaning objections and give in to sweet, sinful temptation.  Includes a special message from the editor, as well as an excerpt from another Loveswept title. ...more"
                ],
                [
                  "35",
                  "65cfc9f242c2984a",
                  "The Moosewood Cookbook: Recipes from Moosewood Restaurant, Ithaca, New York",
                  "12.34",
                  "4",
                  "Food and Drink",
                  "In stock",
                  "Among the most influential cookbooks of our time, the Moosewood Cookbook is such a powerful symbol that the publishers were tempted not to tamper with it. But times have changed, and knowledge about the foods we eat and their nutritional value has increased. So, after many inquiries and requests, the author has revised many of her recipes to be lighter and healthier. Illus Among the most influential cookbooks of our time, the Moosewood Cookbook is such a powerful symbol that the publishers were tempted not to tamper with it. But times have changed, and knowledge about the foods we eat and their nutritional value has increased. So, after many inquiries and requests, the author has revised many of her recipes to be lighter and healthier. Illustrated. ...more"
                ],
                [
                  "36",
                  "ee6c67859d70186b",
                  "NaNo What Now? Finding your editing process, revising your NaNoWriMo book and building a writing career through publishing and beyond",
                  "10.41",
                  "4",
                  "Default",
                  "In stock",
                  "You’ve just completed a novel during the National Novel Writing Month challenge! Or maybe you completed part of one. Or signed up with really good intentions and then only wrote a couple of words. Either way, you’re staring at 30 days worth of words and wondering… What now? How exactly do you start a revision and discover your editing process? How do you know if you’re rea You’ve just completed a novel during the National Novel Writing Month challenge! Or maybe you completed part of one. Or signed up with really good intentions and then only wrote a couple of words. Either way, you’re staring at 30 days worth of words and wondering… What now? How exactly do you start a revision and discover your editing process? How do you know if you’re ready to hire an editor? How do you motivate yourself when faced with draft dread or editing blocks? How can you translate what you’ve accomplished so far into a professional writing career? From tips for finding beta readers, exploration of traditional vs. self-publishing, and strategies to motivate yourself to keep writing regularly post-NaNoWriMo, NaNo What Now? is a quick and easy-to-read unofficial guide to the next steps. In a sea of general writing advice, NaNo ML and multi-year veteran Hillary DePiano offers practical and specific solutions tailored to the unique nature of the NaNoWriMo challenge and holds your hand through the rest of the journey. It’s time to finish what you started and make your book the best it can be. ...more"
                ],
                [
                  "37",
                  "aeb51dfbe8aeec59",
                  "Roller Girl",
                  "14.1",
                  "5",
                  "Sequential Art",
                  "In stock",
                  "For fans of Raina Telgemeier’s Smile, a heartwarming graphic novel about friendship and surviving junior high through the power of roller derby. Twelve-year-old Astrid has always done everything with her best friend Nicole. So when Astrid signs up for roller derby camp, she assumes Nicole will too. But Nicole signs up for dance camp with a new friend instead, and so begins For fans of Raina Telgemeier’s Smile, a heartwarming graphic novel about friendship and surviving junior high through the power of roller derby. Twelve-year-old Astrid has always done everything with her best friend Nicole. So when Astrid signs up for roller derby camp, she assumes Nicole will too. But Nicole signs up for dance camp with a new friend instead, and so begins the toughest summer of Astrid's life. There are bumps and bruises as Astrid learns who she is without Nicole...and what it takes to be a strong, tough roller girl. ...more"
                ],
                [
                  "38",
                  "8a150fd8ff5d7686",
                  "History of Beauty",
                  "10.29",
                  "4",
                  "Art",
                  "In stock",
                  "Now in paperback, Umberto Eco’s groundbreaking and much-acclaimed first illustrated book has been a critical success since its first publication in 2004. What is beauty? Umberto Eco, among Italy’s finest and most important contemporary thinkers, explores the nature, the meaning, and the very history of the idea of beauty in Western culture. The profound and subtle text is Now in paperback, Umberto Eco’s groundbreaking and much-acclaimed first illustrated book has been a critical success since its first publication in 2004. What is beauty? Umberto Eco, among Italy’s finest and most important contemporary thinkers, explores the nature, the meaning, and the very history of the idea of beauty in Western culture. The profound and subtle text is lavishly illustrated with abundant examples of sublime painting and sculpture and lengthy quotations from writers and philosophers. This is the first paperback edition of History of Beauty, making this intellectual and philosophical journey with one of the world’s most acclaimed thinkers available in a more compact and affordable format.From the Trade Paperback edition ...more"
                ],
                [
                  "39",
                  "0345872b14f9e774",
                  "The Origin of Species",
                  "10.01",
                  "4",
                  "Science",
                  "In stock",
                  "The publication of Darwin’s The Origin of Species in 1859 marked a dramatic turning point in scientific thought. The volume had taken Darwin more than twenty years to publish, in part because he envisioned the storm of controversy it was certain to unleash. Indeed, selling out its first edition on its first day, The Origin of Species revolutionized science, philosophy, and The publication of Darwin’s The Origin of Species in 1859 marked a dramatic turning point in scientific thought. The volume had taken Darwin more than twenty years to publish, in part because he envisioned the storm of controversy it was certain to unleash. Indeed, selling out its first edition on its first day, The Origin of Species revolutionized science, philosophy, and theology.Darwin’s reasoned, documented arguments carefully advance his theory of natural selection and his assertion that species were not created all at once by a divine hand but started with a few simple forms that mutated and adapted over time. Whether commenting on his own poor health, discussing his experiments to test instinct in bees, or relating a conversation about a South American burrowing rodent, Darwin’s monumental achievement is surprisingly personal and delightfully readable. Its profound ideas remain controversial even today, making it the most influential book in the natural sciences ever written—an important work not just to its time but to the history of humankind. ...more"
                ],
                [
                  "40",
                  "924438fc6cbec836",
                  "Naturally Lean: 125 Nourishing Gluten-Free, Plant-Based Recipes--All Under 300 Calories",
                  "11.38",
                  "5",
                  "Food and Drink",
                  "In stock",
                  "When you're hungry for a filling meal, it's easy to go for the unhealthy stuff. Many times, even gluten-free and vegan cuisines can be loaded with sneaky fillers and not-so-good-for-you ingredients. Allyson Kramer proves that low-cal doesn't have to mean low-satisfaction; these gluten-free, plant-based recipes are high in nutrients, have less than 300 calories per serving— When you're hungry for a filling meal, it's easy to go for the unhealthy stuff. Many times, even gluten-free and vegan cuisines can be loaded with sneaky fillers and not-so-good-for-you ingredients. Allyson Kramer proves that low-cal doesn't have to mean low-satisfaction; these gluten-free, plant-based recipes are high in nutrients, have less than 300 calories per serving—and they taste amazing. Dig into Cheesy BBQ Kale Chips, Cinnamon Plum Streusel, Avocado Chick'n Salad, and so much more. There are no fillers, no added or refined sugars, and no processed ingredients you can't pronounce. Whether it's breakfast, lunch, snacks, small plates, entrees, or beverages, you'll find a hearty, healthy recipe for every craving.   ...more"
                ],
                [
                  "41",
                  "40cdcbb7692fd408",
                  "Life of Pi",
                  "13.22",
                  "4",
                  "Default",
                  "In stock",
                  "Life of Pi is a fantasy adventure novel by Yann Martel published in 2001. The protagonist, Piscine Molitor \"Pi\" Patel, a Tamil boy from Pondicherry, explores issues of spirituality and practicality from an early age. He survives 227 days after a shipwreck while stranded on a boat in the Pacific Ocean with a Bengal tiger named Richard Parker."
                ],
                [
                  "42",
                  "4fa75fc6829431ca",
                  "Every Heart a Doorway (Every Heart A Doorway #1)",
                  "12.16",
                  "5",
                  "Fantasy",
                  "In stock",
                  "Eleanor West’s Home for Wayward ChildrenNo SolicitationsNo VisitorsNo QuestsChildren have always disappeared under the right conditions; slipping through the shadows under a bed or at the back of a wardrobe, tumbling down rabbit holes and into old wells, and emerging somewhere... else.But magical lands have little need for used-up miracle children.Nancy tumbled once, but n Eleanor West’s Home for Wayward ChildrenNo SolicitationsNo VisitorsNo QuestsChildren have always disappeared under the right conditions; slipping through the shadows under a bed or at the back of a wardrobe, tumbling down rabbit holes and into old wells, and emerging somewhere... else.But magical lands have little need for used-up miracle children.Nancy tumbled once, but now she’s back. The things she’s experienced... they change a person. The children under Miss West’s care understand all too well. And each of them is seeking a way back to their own fantasy world.But Nancy’s arrival marks a change at the Home. There’s a darkness just around each corner, and when tragedy strikes, it’s up to Nancy and her new-found schoolmates to get to the heart of the matter.No matter the cost. ...more"
                ],
                [
                  "43",
                  "4807043b8218e9ce",
                  "Counted With the Stars (Out from Egypt #1)",
                  "17.97",
                  "5",
                  "Christian Fiction",
                  "In stock",
                  "A Story of Love, Desperation, and Hope During a Great Biblical EpochSold into slavery by her father and forsaken by the man she was supposed to marry, young Egyptian Kiya must serve a mistress who takes pleasure in her humiliation. When terrifying plagues strike Egypt, Kiya is in the middle of it all.To save her older brother and escape the bonds of slavery, Kiya flees wit A Story of Love, Desperation, and Hope During a Great Biblical EpochSold into slavery by her father and forsaken by the man she was supposed to marry, young Egyptian Kiya must serve a mistress who takes pleasure in her humiliation. When terrifying plagues strike Egypt, Kiya is in the middle of it all.To save her older brother and escape the bonds of slavery, Kiya flees with the Hebrews during the Great Exodus. She finds herself utterly dependent on a fearsome God she's only just beginning to learn about, and in love with a man who despises her people. With everything she's ever known swept away, will Kiya turn back toward Egypt or surrender her life and her future to Yahweh? ...more"
                ],
                [
                  "44",
                  "72b5355dda190b6a",
                  "The Hobbit (Middle-Earth Universe)",
                  "17.8",
                  "5",
                  "Default",
                  "In stock",
                  "In a hole in the ground there lived a hobbit. Not a nasty, dirty, wet hole, filled with the ends of worms and an oozy smell, nor yet a dry, bare, sandy hole with nothing in it to sit down on or to eat: it was a hobbit-hole, and that means comfort.Written for J.R.R. Tolkien’s own children, The Hobbit met with instant critical acclaim when it was first published in 1937. Now In a hole in the ground there lived a hobbit. Not a nasty, dirty, wet hole, filled with the ends of worms and an oozy smell, nor yet a dry, bare, sandy hole with nothing in it to sit down on or to eat: it was a hobbit-hole, and that means comfort.Written for J.R.R. Tolkien’s own children, The Hobbit met with instant critical acclaim when it was first published in 1937. Now recognized as a timeless classic, this introduction to the hobbit Bilbo Baggins, the wizard Gandalf, Gollum, and the spectacular world of Middle-earth recounts of the adventures of a reluctant hero, a powerful and dangerous ring, and the cruel dragon Smaug the Magnificent. The text in this 372-page paperback edition is based on that first published in Great Britain by Collins Modern Classics (1998), and includes a note on the text by Douglas A. Anderson (2001). Unforgettable! ...more"
                ],
                [
                  "45",
                  "3d250ab0f12be445",
                  "The Collected Poems of W.B. Yeats (The Collected Works of W.B. Yeats #1)",
                  "15.42",
                  "5",
                  "Poetry",
                  "In stock",
                  "The Collected Poems of W. B. Yeats includes all of the poems authorized by Yeats for inclusion in his standard canon. Breathtaking in range, it encompasses the entire arc of his career, from luminous reworking of ancient Irish myths and legends to passionate meditations on the demands and rewards of youth and old age, from exquisite, occasionally whimsical songs of love, n The Collected Poems of W. B. Yeats includes all of the poems authorized by Yeats for inclusion in his standard canon. Breathtaking in range, it encompasses the entire arc of his career, from luminous reworking of ancient Irish myths and legends to passionate meditations on the demands and rewards of youth and old age, from exquisite, occasionally whimsical songs of love, nature, and art to somber and angry poems of life in a nation torn by war and uprising. In observing the development of rich and recurring images and themes over the course of his body of work, we can trace the quest of this century's greatest poet to unite intellect and artistry in a single magnificent vision.Revised and corrected, this edition includes Yeat's own notes on his poetry, complemented by explanatory notes from esteemed Yeats scholar Richard J. Finneran. The Collected Poems of W. B. Yeats is the most comprehensive edition of one of the world's most beloved poets available in paperback. ...more"
                ],
                [
                  "46",
                  "720c36b2bee4692e",
                  "Pride and Prejudice",
                  "19.27",
                  "4",
                  "Add a comment",
                  "In stock",
                  "\"It is a truth universally acknowledged, that a single man in possession of a good fortune must be in want of a wife.\"So begins Pride and Prejudice, Jane Austen's witty comedy of manners--one of the most popular novels of all time--that features splendidly civilized sparring between the proud Mr. Darcy and the prejudiced Elizabeth Bennet as they play out their spirited cou \"It is a truth universally acknowledged, that a single man in possession of a good fortune must be in want of a wife.\"So begins Pride and Prejudice, Jane Austen's witty comedy of manners--one of the most popular novels of all time--that features splendidly civilized sparring between the proud Mr. Darcy and the prejudiced Elizabeth Bennet as they play out their spirited courtship in a series of eighteenth-century drawing-room intrigues. ...more"
                ],
                [
                  "47",
                  "abbb492978ff656d",
                  "The Secret Garden",
                  "15.08",
                  "4",
                  "Classics",
                  "In stock",
                  "When orphaned Mary Lennox comes to live at her uncle's great house on the Yorkshire Moors, she finds it full of secrets. The mansion has nearly one hundred rooms, and her uncle keeps himself locked up. And at night, she hears the sound of crying down one of the long corridors.The gardens surrounding the large property are Mary's only escape. Then, Mary discovers a secret g When orphaned Mary Lennox comes to live at her uncle's great house on the Yorkshire Moors, she finds it full of secrets. The mansion has nearly one hundred rooms, and her uncle keeps himself locked up. And at night, she hears the sound of crying down one of the long corridors.The gardens surrounding the large property are Mary's only escape. Then, Mary discovers a secret garden, surrounded by walls and locked with a missing key. One day, with the help of two unexpected companions, she discovers a way in. Is everything in the garden dead, or can Mary bring it back to life? ...more"
                ],
                [
                  "48",
                  "f701fae56b645ef7",
                  "The Power Greens Cookbook: 140 Delicious Superfood Recipes",
                  "11.05",
                  "5",
                  "Food and Drink",
                  "In stock",
                  "The Power Greens Cookbook presents 140 delicious, healthy recipes for dark, leafy greens that will please your palate and inspire you to clean your plate.Kale and collards don’t have to be the only greens on your shopping list anymore. Rising stars include romaine and parsley, Brussels sprouts and beet greens, and more. But say the words “Eat your greens,” and even though The Power Greens Cookbook presents 140 delicious, healthy recipes for dark, leafy greens that will please your palate and inspire you to clean your plate. Kale and collards don’t have to be the only greens on your shopping list anymore. Rising stars include romaine and parsley, Brussels sprouts and beet greens, and more. But say the words “Eat your greens,” and even though we know they’re good for us, many people are afraid that they won’t taste good. Fear no more! The Power Greens Cookbook provides go-to recipes that are both nutritious and delicious.   Acclaimed cookbook author and blogger Dana Jacobi expands your culinary repertoire and introduces the fifteen Power Greens—from arugula to watercress—that are loaded with health-supporting nutrients and phytochemicals that enhance vitality, all the while protecting against diabetes, heart disease, and high blood pressure, fortifying eyes and muscles, even making your skin glow. Jacobi also shares simple cooking techniques that help you prepare these super veggies quickly. Including main dishes and hearty salads, dips, spreads, snacks, and even drinks, The Power Greens Cookbook offers myriad mouthwatering vegetable-centric recipes.  • Soups: Cabbage and Brussels Sprouts Soup, Spinach Gazpacho with Walnuts, Hoppin’ John Stew with Mustard Greens• Salads: Caesar Salad with Parmesan Chickpeas, Tuscan Kale Salad with Pomegranate Seeds and Walnuts, Beets and Beet Greens with Citrus Dressing• Main Dishes: Red Beans and Smoky Greens, Kale-Smothered Pork Chops with Carrot and Apple, Tortelloni with Broccoli Rabe Florets• Small Meals and Snacks: Avocado and Watercress Tartine, Grilled Cheese and Tomato Sandwich with Kimchi, Poached Eggs in a Nest of Bacon-Wilted Kale• Side Dishes and Condiments: Carrots with Wild Arugula Pesto, French Lettuce Stir-Fry, Tahini Creamed Spinach, Kale Za’atar  Shown in dozens of tantalizing photographs, these dishes are sure to become mainstays in your kitchen for weeknight family meals, casual entertaining, and elegant dinner parties. From the cruciferous and crunchy to the leafy and light, The Power Greens Cookbook is just what the doctor—and your taste buds—ordered. ...more"
                ],
                [
                  "49",
                  "c4182bdb53e2459a",
                  "The Darkest Corners",
                  "11.33",
                  "5",
                  "Young Adult",
                  "In stock",
                  "The Darkest Corners is a psychological thriller about the lies little girls tell, and the deadly truths those lies become.There are ghosts around every corner in Fayette, Pennsylvania. Tessa left when she was nine and has been trying ever since not to think about it after what happened there that last summer. Memories of things so dark will burn themselves into your mind i The Darkest Corners is a psychological thriller about the lies little girls tell, and the deadly truths those lies become.There are ghosts around every corner in Fayette, Pennsylvania. Tessa left when she was nine and has been trying ever since not to think about it after what happened there that last summer. Memories of things so dark will burn themselves into your mind if you let them.Callie never left. She moved to another house, so she doesn’t have to walk those same halls, but then Callie always was the stronger one. She can handle staring into the faces of her demons—and if she parties hard enough, maybe one day they’ll disappear for good.Tessa and Callie have never talked about what they saw that night. After the trial, Callie drifted and Tessa moved, and childhood friends just have a way of losing touch.But ever since she left, Tessa has had questions. Things have never quite added up. And now she has to go back to Fayette—to Wyatt Stokes, sitting on death row; to Lori Cawley, Callie’s dead cousin; and to the one other person who may be hiding the truth.Only the closer Tessa gets to the truth, the closer she gets to a killer—and this time, it won’t be so easy to run away. ...more"
                ]
              ],
              "shape": {
                "columns": 7,
                "rows": 75
              }
            },
            "text/html": [
              "<div>\n",
              "<style scoped>\n",
              "    .dataframe tbody tr th:only-of-type {\n",
              "        vertical-align: middle;\n",
              "    }\n",
              "\n",
              "    .dataframe tbody tr th {\n",
              "        vertical-align: top;\n",
              "    }\n",
              "\n",
              "    .dataframe thead th {\n",
              "        text-align: right;\n",
              "    }\n",
              "</style>\n",
              "<table border=\"1\" class=\"dataframe\">\n",
              "  <thead>\n",
              "    <tr style=\"text-align: right;\">\n",
              "      <th></th>\n",
              "      <th>UPC</th>\n",
              "      <th>Title</th>\n",
              "      <th>Price (£)</th>\n",
              "      <th>Rating</th>\n",
              "      <th>Genre</th>\n",
              "      <th>Availability</th>\n",
              "      <th>Description</th>\n",
              "    </tr>\n",
              "  </thead>\n",
              "  <tbody>\n",
              "    <tr>\n",
              "      <th>0</th>\n",
              "      <td>ce6396b0f23f6ecc</td>\n",
              "      <td>Set Me Free</td>\n",
              "      <td>17.46</td>\n",
              "      <td>5</td>\n",
              "      <td>Young Adult</td>\n",
              "      <td>In stock</td>\n",
              "      <td>Aaron Ledbetter’s future had been planned out ...</td>\n",
              "    </tr>\n",
              "    <tr>\n",
              "      <th>1</th>\n",
              "      <td>6258a1f6a6dcfe50</td>\n",
              "      <td>The Four Agreements: A Practical Guide to Pers...</td>\n",
              "      <td>17.66</td>\n",
              "      <td>5</td>\n",
              "      <td>Spirituality</td>\n",
              "      <td>In stock</td>\n",
              "      <td>In The Four Agreements, don Miguel Ruiz reveal...</td>\n",
              "    </tr>\n",
              "    <tr>\n",
              "      <th>2</th>\n",
              "      <td>6be3beb0793a53e7</td>\n",
              "      <td>Sophie's World</td>\n",
              "      <td>15.94</td>\n",
              "      <td>5</td>\n",
              "      <td>Philosophy</td>\n",
              "      <td>In stock</td>\n",
              "      <td>A page-turning novel that is also an explorati...</td>\n",
              "    </tr>\n",
              "    <tr>\n",
              "      <th>3</th>\n",
              "      <td>657fe5ead67a7767</td>\n",
              "      <td>Untitled Collection: Sabbath Poems 2014</td>\n",
              "      <td>14.27</td>\n",
              "      <td>4</td>\n",
              "      <td>Poetry</td>\n",
              "      <td>In stock</td>\n",
              "      <td>More than thirty-five years ago, when the weat...</td>\n",
              "    </tr>\n",
              "    <tr>\n",
              "      <th>4</th>\n",
              "      <td>51653ef291ab7ddc</td>\n",
              "      <td>This One Summer</td>\n",
              "      <td>19.49</td>\n",
              "      <td>4</td>\n",
              "      <td>Sequential Art</td>\n",
              "      <td>In stock</td>\n",
              "      <td>Every summer, Rose goes with her mom and dad t...</td>\n",
              "    </tr>\n",
              "    <tr>\n",
              "      <th>...</th>\n",
              "      <td>...</td>\n",
              "      <td>...</td>\n",
              "      <td>...</td>\n",
              "      <td>...</td>\n",
              "      <td>...</td>\n",
              "      <td>...</td>\n",
              "      <td>...</td>\n",
              "    </tr>\n",
              "    <tr>\n",
              "      <th>70</th>\n",
              "      <td>9c96cd1329fbd82d</td>\n",
              "      <td>The Zombie Room</td>\n",
              "      <td>19.69</td>\n",
              "      <td>5</td>\n",
              "      <td>Default</td>\n",
              "      <td>In stock</td>\n",
              "      <td>An unlikely bond is forged between three men f...</td>\n",
              "    </tr>\n",
              "    <tr>\n",
              "      <th>71</th>\n",
              "      <td>b78deb463531d078</td>\n",
              "      <td>The Silent Wife</td>\n",
              "      <td>12.34</td>\n",
              "      <td>5</td>\n",
              "      <td>Fiction</td>\n",
              "      <td>In stock</td>\n",
              "      <td>A chilling psychological thriller about a marr...</td>\n",
              "    </tr>\n",
              "    <tr>\n",
              "      <th>72</th>\n",
              "      <td>4280ac3eab57aa5d</td>\n",
              "      <td>The Girl You Lost</td>\n",
              "      <td>12.29</td>\n",
              "      <td>5</td>\n",
              "      <td>Mystery</td>\n",
              "      <td>In stock</td>\n",
              "      <td>Eighteen years ago your baby daughter was snat...</td>\n",
              "    </tr>\n",
              "    <tr>\n",
              "      <th>73</th>\n",
              "      <td>29fc016c459aeb14</td>\n",
              "      <td>The Edge of Reason (Bridget Jones #2)</td>\n",
              "      <td>19.18</td>\n",
              "      <td>4</td>\n",
              "      <td>Womens Fiction</td>\n",
              "      <td>In stock</td>\n",
              "      <td>Monday 27 January“7:15 a.m. Hurrah! The wilder...</td>\n",
              "    </tr>\n",
              "    <tr>\n",
              "      <th>74</th>\n",
              "      <td>19fec36a1dfb4c16</td>\n",
              "      <td>A Spy's Devotion (The Regency Spies of London #1)</td>\n",
              "      <td>16.97</td>\n",
              "      <td>5</td>\n",
              "      <td>Historical Fiction</td>\n",
              "      <td>In stock</td>\n",
              "      <td>In England’s Regency era, manners and elegance...</td>\n",
              "    </tr>\n",
              "  </tbody>\n",
              "</table>\n",
              "<p>75 rows × 7 columns</p>\n",
              "</div>"
            ],
            "text/plain": [
              "                 UPC                                              Title  \\\n",
              "0   ce6396b0f23f6ecc                                        Set Me Free   \n",
              "1   6258a1f6a6dcfe50  The Four Agreements: A Practical Guide to Pers...   \n",
              "2   6be3beb0793a53e7                                     Sophie's World   \n",
              "3   657fe5ead67a7767            Untitled Collection: Sabbath Poems 2014   \n",
              "4   51653ef291ab7ddc                                    This One Summer   \n",
              "..               ...                                                ...   \n",
              "70  9c96cd1329fbd82d                                    The Zombie Room   \n",
              "71  b78deb463531d078                                    The Silent Wife   \n",
              "72  4280ac3eab57aa5d                                  The Girl You Lost   \n",
              "73  29fc016c459aeb14              The Edge of Reason (Bridget Jones #2)   \n",
              "74  19fec36a1dfb4c16  A Spy's Devotion (The Regency Spies of London #1)   \n",
              "\n",
              "    Price (£)  Rating               Genre Availability  \\\n",
              "0       17.46       5         Young Adult     In stock   \n",
              "1       17.66       5        Spirituality     In stock   \n",
              "2       15.94       5          Philosophy     In stock   \n",
              "3       14.27       4              Poetry     In stock   \n",
              "4       19.49       4      Sequential Art     In stock   \n",
              "..        ...     ...                 ...          ...   \n",
              "70      19.69       5             Default     In stock   \n",
              "71      12.34       5             Fiction     In stock   \n",
              "72      12.29       5             Mystery     In stock   \n",
              "73      19.18       4      Womens Fiction     In stock   \n",
              "74      16.97       5  Historical Fiction     In stock   \n",
              "\n",
              "                                          Description  \n",
              "0   Aaron Ledbetter’s future had been planned out ...  \n",
              "1   In The Four Agreements, don Miguel Ruiz reveal...  \n",
              "2   A page-turning novel that is also an explorati...  \n",
              "3   More than thirty-five years ago, when the weat...  \n",
              "4   Every summer, Rose goes with her mom and dad t...  \n",
              "..                                                ...  \n",
              "70  An unlikely bond is forged between three men f...  \n",
              "71  A chilling psychological thriller about a marr...  \n",
              "72  Eighteen years ago your baby daughter was snat...  \n",
              "73  Monday 27 January“7:15 a.m. Hurrah! The wilder...  \n",
              "74  In England’s Regency era, manners and elegance...  \n",
              "\n",
              "[75 rows x 7 columns]"
            ]
          },
          "metadata": {},
          "output_type": "display_data"
        }
      ],
      "source": [
        "from IPython.display import display\n",
        "\n",
        "# Display the DataFrame as a table\n",
        "display(df)"
      ]
    }
  ],
  "metadata": {
    "colab": {
      "provenance": []
    },
    "kernelspec": {
      "display_name": "base",
      "language": "python",
      "name": "python3"
    },
    "language_info": {
      "codemirror_mode": {
        "name": "ipython",
        "version": 3
      },
      "file_extension": ".py",
      "mimetype": "text/x-python",
      "name": "python",
      "nbconvert_exporter": "python",
      "pygments_lexer": "ipython3",
      "version": "3.12.7"
    }
  },
  "nbformat": 4,
  "nbformat_minor": 5
}
